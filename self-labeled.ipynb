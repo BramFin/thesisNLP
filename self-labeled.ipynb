{
 "cells": [
  {
   "cell_type": "code",
   "execution_count": 1,
   "id": "3bd4fede",
   "metadata": {},
   "outputs": [],
   "source": [
    "#!pip install pysentiment2\n",
    "#!pip install pycorenlp\n",
    "#!pip install torch\n",
    "#!pip install tranformers\n",
    "import pandas as pd\n",
    "import os\n",
    "import pysentiment2 as ps\n",
    "import sklearn\n",
    "import seaborn as sns\n",
    "import matplotlib.pyplot as plt\n",
    "import numpy as np\n",
    "import re\n",
    "import torch\n"
   ]
  },
  {
   "cell_type": "code",
   "execution_count": 2,
   "id": "3bdcdff0",
   "metadata": {},
   "outputs": [],
   "source": [
    "from transformers import BertTokenizer, BertForSequenceClassification\n",
    "from pycorenlp import StanfordCoreNLP"
   ]
  },
  {
   "cell_type": "code",
   "execution_count": 4,
   "id": "d9744c78",
   "metadata": {
    "scrolled": true
   },
   "outputs": [
    {
     "data": {
      "text/html": [
       "<div>\n",
       "<style scoped>\n",
       "    .dataframe tbody tr th:only-of-type {\n",
       "        vertical-align: middle;\n",
       "    }\n",
       "\n",
       "    .dataframe tbody tr th {\n",
       "        vertical-align: top;\n",
       "    }\n",
       "\n",
       "    .dataframe thead th {\n",
       "        text-align: right;\n",
       "    }\n",
       "</style>\n",
       "<table border=\"1\" class=\"dataframe\">\n",
       "  <thead>\n",
       "    <tr style=\"text-align: right;\">\n",
       "      <th></th>\n",
       "      <th>Unnamed: 0</th>\n",
       "      <th>tokenized_text</th>\n",
       "      <th>label</th>\n",
       "    </tr>\n",
       "  </thead>\n",
       "  <tbody>\n",
       "    <tr>\n",
       "      <th>0</th>\n",
       "      <td>0</td>\n",
       "      <td>results from the foodservice businesses in ref...</td>\n",
       "      <td>positive</td>\n",
       "    </tr>\n",
       "    <tr>\n",
       "      <th>1</th>\n",
       "      <td>1</td>\n",
       "      <td>during 2020, a portion of what was previously ...</td>\n",
       "      <td>neutral</td>\n",
       "    </tr>\n",
       "    <tr>\n",
       "      <th>2</th>\n",
       "      <td>2</td>\n",
       "      <td>if the ongoing efforts to mitigate the impact ...</td>\n",
       "      <td>negative</td>\n",
       "    </tr>\n",
       "    <tr>\n",
       "      <th>3</th>\n",
       "      <td>3</td>\n",
       "      <td>the increase in our net cash and investments p...</td>\n",
       "      <td>neutral</td>\n",
       "    </tr>\n",
       "    <tr>\n",
       "      <th>4</th>\n",
       "      <td>4</td>\n",
       "      <td>the increased fourth quarter demand for retail...</td>\n",
       "      <td>positive</td>\n",
       "    </tr>\n",
       "    <tr>\n",
       "      <th>...</th>\n",
       "      <td>...</td>\n",
       "      <td>...</td>\n",
       "      <td>...</td>\n",
       "    </tr>\n",
       "    <tr>\n",
       "      <th>655</th>\n",
       "      <td>655</td>\n",
       "      <td>costs associated with intangibles that have no...</td>\n",
       "      <td>neutral</td>\n",
       "    </tr>\n",
       "    <tr>\n",
       "      <th>656</th>\n",
       "      <td>656</td>\n",
       "      <td>we define ebitda as operating profit plus depr...</td>\n",
       "      <td>neutral</td>\n",
       "    </tr>\n",
       "    <tr>\n",
       "      <th>657</th>\n",
       "      <td>657</td>\n",
       "      <td>it is not possible to estimate what effect thi...</td>\n",
       "      <td>neutral</td>\n",
       "    </tr>\n",
       "    <tr>\n",
       "      <th>658</th>\n",
       "      <td>658</td>\n",
       "      <td>for additional information on mortgage banking...</td>\n",
       "      <td>positive</td>\n",
       "    </tr>\n",
       "    <tr>\n",
       "      <th>659</th>\n",
       "      <td>659</td>\n",
       "      <td>the convertible preferred stock represents tra...</td>\n",
       "      <td>neutral</td>\n",
       "    </tr>\n",
       "  </tbody>\n",
       "</table>\n",
       "<p>660 rows × 3 columns</p>\n",
       "</div>"
      ],
      "text/plain": [
       "     Unnamed: 0                                     tokenized_text     label\n",
       "0             0  results from the foodservice businesses in ref...  positive\n",
       "1             1  during 2020, a portion of what was previously ...   neutral\n",
       "2             2  if the ongoing efforts to mitigate the impact ...  negative\n",
       "3             3  the increase in our net cash and investments p...   neutral\n",
       "4             4  the increased fourth quarter demand for retail...  positive\n",
       "..          ...                                                ...       ...\n",
       "655         655  costs associated with intangibles that have no...   neutral\n",
       "656         656  we define ebitda as operating profit plus depr...   neutral\n",
       "657         657  it is not possible to estimate what effect thi...   neutral\n",
       "658         658  for additional information on mortgage banking...  positive\n",
       "659         659  the convertible preferred stock represents tra...   neutral\n",
       "\n",
       "[660 rows x 3 columns]"
      ]
     },
     "execution_count": 4,
     "metadata": {},
     "output_type": "execute_result"
    }
   ],
   "source": [
    "data = pd.read_csv('output1.csv')\n",
    "data\n",
    "data['label'].unique()\n",
    "data"
   ]
  },
  {
   "cell_type": "code",
   "execution_count": 5,
   "id": "3a1f679a",
   "metadata": {},
   "outputs": [],
   "source": [
    "def preprocessing2(data):\n",
    "    data['wordcount'] = data[\"tokenized_text\"].apply(lambda x: len(str(x).split(' ')))\n",
    "    \n",
    "    data['tokenized_text'] = data['tokenized_text'].str.replace('[^a-z]', ' ', regex=True).str.strip()\n",
    "\n",
    "preprocessing2(data)"
   ]
  },
  {
   "cell_type": "code",
   "execution_count": 6,
   "id": "a1f0f9c3",
   "metadata": {},
   "outputs": [],
   "source": [
    "data= data[data['wordcount'] > 5]\n",
    "data= data[data['wordcount'] <64]\n"
   ]
  },
  {
   "cell_type": "code",
   "execution_count": 7,
   "id": "30a5d125",
   "metadata": {},
   "outputs": [],
   "source": [
    "def lm_calculation(data):\n",
    "    length=[]\n",
    "    positive_lm=[]\n",
    "    negative_lm=[]\n",
    "    lm=ps.LM()\n",
    "    for i in data['tokenized_text']:\n",
    "        tokens=lm.tokenize(i)\n",
    "        positive_lm.append(lm.get_score(tokens)['Positive'])\n",
    "        negative_lm.append(lm.get_score(tokens)['Negative'])\n",
    "    data['positive_lm'] =positive_lm\n",
    "    data['negative_lm'] =negative_lm\n",
    "    data.rename(columns={1: 'label', 0:'text'}, inplace=True)\n",
    "lm_calculation(data) "
   ]
  },
  {
   "cell_type": "code",
   "execution_count": 8,
   "id": "5e627544",
   "metadata": {},
   "outputs": [],
   "source": [
    "def lm_classification(data):\n",
    "    data['classification_lm']='positive'\n",
    "    data.loc[data['positive_lm'] < data['negative_lm'], 'classification_lm'] ='negative'\n",
    "    data.loc[data['negative_lm'] == data['positive_lm'],'classification_lm']='neutral'\n",
    "\n",
    "lm_classification(data)"
   ]
  },
  {
   "cell_type": "code",
   "execution_count": 9,
   "id": "b4ea59eb",
   "metadata": {},
   "outputs": [
    {
     "name": "stdout",
     "output_type": "stream",
     "text": [
      "0.48833333333333334\n"
     ]
    }
   ],
   "source": [
    "def accuracy(data):\n",
    "    return sklearn.metrics.accuracy_score(data['label'], data['classification_lm'])\n",
    "print(accuracy(data))"
   ]
  },
  {
   "cell_type": "code",
   "execution_count": 10,
   "id": "9c57e190",
   "metadata": {},
   "outputs": [
    {
     "data": {
      "text/plain": [
       "array(['positive', 'neutral', 'negative'], dtype=object)"
      ]
     },
     "execution_count": 10,
     "metadata": {},
     "output_type": "execute_result"
    }
   ],
   "source": [
    "data['label'].unique()"
   ]
  },
  {
   "cell_type": "code",
   "execution_count": 11,
   "id": "455827d1",
   "metadata": {},
   "outputs": [
    {
     "data": {
      "text/plain": [
       "array([[ 42,  32,   6],\n",
       "       [119, 235,  82],\n",
       "       [ 15,  53,  16]], dtype=int64)"
      ]
     },
     "execution_count": 11,
     "metadata": {},
     "output_type": "execute_result"
    }
   ],
   "source": [
    "def confusion_matrix(data):\n",
    "    return sklearn.metrics.confusion_matrix(data['label'], data['classification_lm'])\n",
    "confusion_matrix(data)"
   ]
  },
  {
   "cell_type": "code",
   "execution_count": 12,
   "id": "e1c7fd21",
   "metadata": {},
   "outputs": [
    {
     "data": {
      "text/html": [
       "<div>\n",
       "<style scoped>\n",
       "    .dataframe tbody tr th:only-of-type {\n",
       "        vertical-align: middle;\n",
       "    }\n",
       "\n",
       "    .dataframe tbody tr th {\n",
       "        vertical-align: top;\n",
       "    }\n",
       "\n",
       "    .dataframe thead th {\n",
       "        text-align: right;\n",
       "    }\n",
       "</style>\n",
       "<table border=\"1\" class=\"dataframe\">\n",
       "  <thead>\n",
       "    <tr style=\"text-align: right;\">\n",
       "      <th></th>\n",
       "      <th>Unnamed: 0</th>\n",
       "      <th>tokenized_text</th>\n",
       "      <th>label</th>\n",
       "      <th>wordcount</th>\n",
       "      <th>positive_lm</th>\n",
       "      <th>negative_lm</th>\n",
       "      <th>classification_lm</th>\n",
       "    </tr>\n",
       "  </thead>\n",
       "  <tbody>\n",
       "    <tr>\n",
       "      <th>0</th>\n",
       "      <td>0</td>\n",
       "      <td>results from the foodservice businesses in ref...</td>\n",
       "      <td>positive</td>\n",
       "      <td>46</td>\n",
       "      <td>0</td>\n",
       "      <td>1</td>\n",
       "      <td>negative</td>\n",
       "    </tr>\n",
       "    <tr>\n",
       "      <th>1</th>\n",
       "      <td>1</td>\n",
       "      <td>during       a portion of what was previously ...</td>\n",
       "      <td>neutral</td>\n",
       "      <td>33</td>\n",
       "      <td>0</td>\n",
       "      <td>0</td>\n",
       "      <td>neutral</td>\n",
       "    </tr>\n",
       "    <tr>\n",
       "      <th>4</th>\n",
       "      <td>4</td>\n",
       "      <td>the increased fourth quarter demand for retail...</td>\n",
       "      <td>positive</td>\n",
       "      <td>29</td>\n",
       "      <td>0</td>\n",
       "      <td>0</td>\n",
       "      <td>neutral</td>\n",
       "    </tr>\n",
       "    <tr>\n",
       "      <th>5</th>\n",
       "      <td>5</td>\n",
       "      <td>contractual cash obligations as of december   ...</td>\n",
       "      <td>neutral</td>\n",
       "      <td>24</td>\n",
       "      <td>0</td>\n",
       "      <td>0</td>\n",
       "      <td>neutral</td>\n",
       "    </tr>\n",
       "    <tr>\n",
       "      <th>6</th>\n",
       "      <td>6</td>\n",
       "      <td>our actual results could differ materially fro...</td>\n",
       "      <td>neutral</td>\n",
       "      <td>34</td>\n",
       "      <td>0</td>\n",
       "      <td>0</td>\n",
       "      <td>neutral</td>\n",
       "    </tr>\n",
       "    <tr>\n",
       "      <th>...</th>\n",
       "      <td>...</td>\n",
       "      <td>...</td>\n",
       "      <td>...</td>\n",
       "      <td>...</td>\n",
       "      <td>...</td>\n",
       "      <td>...</td>\n",
       "      <td>...</td>\n",
       "    </tr>\n",
       "    <tr>\n",
       "      <th>655</th>\n",
       "      <td>655</td>\n",
       "      <td>costs associated with intangibles that have no...</td>\n",
       "      <td>neutral</td>\n",
       "      <td>19</td>\n",
       "      <td>0</td>\n",
       "      <td>0</td>\n",
       "      <td>neutral</td>\n",
       "    </tr>\n",
       "    <tr>\n",
       "      <th>656</th>\n",
       "      <td>656</td>\n",
       "      <td>we define ebitda as operating profit plus depr...</td>\n",
       "      <td>neutral</td>\n",
       "      <td>16</td>\n",
       "      <td>1</td>\n",
       "      <td>1</td>\n",
       "      <td>neutral</td>\n",
       "    </tr>\n",
       "    <tr>\n",
       "      <th>657</th>\n",
       "      <td>657</td>\n",
       "      <td>it is not possible to estimate what effect thi...</td>\n",
       "      <td>neutral</td>\n",
       "      <td>23</td>\n",
       "      <td>2</td>\n",
       "      <td>1</td>\n",
       "      <td>positive</td>\n",
       "    </tr>\n",
       "    <tr>\n",
       "      <th>658</th>\n",
       "      <td>658</td>\n",
       "      <td>for additional information on mortgage banking...</td>\n",
       "      <td>positive</td>\n",
       "      <td>46</td>\n",
       "      <td>1</td>\n",
       "      <td>0</td>\n",
       "      <td>positive</td>\n",
       "    </tr>\n",
       "    <tr>\n",
       "      <th>659</th>\n",
       "      <td>659</td>\n",
       "      <td>the convertible preferred stock represents tra...</td>\n",
       "      <td>neutral</td>\n",
       "      <td>34</td>\n",
       "      <td>0</td>\n",
       "      <td>1</td>\n",
       "      <td>negative</td>\n",
       "    </tr>\n",
       "  </tbody>\n",
       "</table>\n",
       "<p>600 rows × 7 columns</p>\n",
       "</div>"
      ],
      "text/plain": [
       "     Unnamed: 0                                     tokenized_text     label  \\\n",
       "0             0  results from the foodservice businesses in ref...  positive   \n",
       "1             1  during       a portion of what was previously ...   neutral   \n",
       "4             4  the increased fourth quarter demand for retail...  positive   \n",
       "5             5  contractual cash obligations as of december   ...   neutral   \n",
       "6             6  our actual results could differ materially fro...   neutral   \n",
       "..          ...                                                ...       ...   \n",
       "655         655  costs associated with intangibles that have no...   neutral   \n",
       "656         656  we define ebitda as operating profit plus depr...   neutral   \n",
       "657         657  it is not possible to estimate what effect thi...   neutral   \n",
       "658         658  for additional information on mortgage banking...  positive   \n",
       "659         659  the convertible preferred stock represents tra...   neutral   \n",
       "\n",
       "     wordcount  positive_lm  negative_lm classification_lm  \n",
       "0           46            0            1          negative  \n",
       "1           33            0            0           neutral  \n",
       "4           29            0            0           neutral  \n",
       "5           24            0            0           neutral  \n",
       "6           34            0            0           neutral  \n",
       "..         ...          ...          ...               ...  \n",
       "655         19            0            0           neutral  \n",
       "656         16            1            1           neutral  \n",
       "657         23            2            1          positive  \n",
       "658         46            1            0          positive  \n",
       "659         34            0            1          negative  \n",
       "\n",
       "[600 rows x 7 columns]"
      ]
     },
     "execution_count": 12,
     "metadata": {},
     "output_type": "execute_result"
    }
   ],
   "source": [
    "data"
   ]
  },
  {
   "cell_type": "code",
   "execution_count": 13,
   "id": "df82b927",
   "metadata": {},
   "outputs": [
    {
     "name": "stdout",
     "output_type": "stream",
     "text": [
      "0.5193434556643777\n"
     ]
    }
   ],
   "source": [
    "def f1_score(data):\n",
    "    return sklearn.metrics.f1_score(data['label'], data['classification_lm'], average='weighted')\n",
    "print(f1_score(data))"
   ]
  },
  {
   "cell_type": "code",
   "execution_count": 15,
   "id": "0deaae2f",
   "metadata": {},
   "outputs": [
    {
     "data": {
      "image/png": "[encoded data removed]",
      "text/plain": [
       "<Figure size 432x288 with 2 Axes>"
      ]
     },
     "metadata": {
      "needs_background": "light"
     },
     "output_type": "display_data"
    }
   ],
   "source": [
    "def graph(data):\n",
    "    confusion_matrix1 =confusion_matrix(data)\n",
    "    confusion_matrix1=confusion_matrix1.astype('float')/confusion_matrix1.sum(axis=1)[:,np.newaxis]\n",
    "    ax = sns.heatmap(confusion_matrix1, annot =True, fmt='.2%', cmap='Blues')\n",
    "    ax.set_title('Confusion Matrix LM',fontsize=20)\n",
    "    ax.set_xlabel('Predicted Classification',fontsize=20)\n",
    "    ax.set_ylabel('Actual Classification',fontsize=20)\n",
    "    ax.xaxis.set_ticklabels(['Negative', 'Neutral', 'Positive'],fontsize=15)\n",
    "    ax.yaxis.set_ticklabels(['Negative', 'Neutral', 'Positive'], fontsize=15, va='center')\n",
    "    plt.savefig('lm_mda_final',bbox_inches=\"tight\")\n",
    "    plt.show()\n",
    "graph(data)"
   ]
  },
  {
   "cell_type": "code",
   "execution_count": 16,
   "id": "6dd6162e",
   "metadata": {},
   "outputs": [],
   "source": [
    "def harvard_calculation(data):\n",
    "    length=[]\n",
    "    positive_HIV4=[]\n",
    "    negative_HIV4=[]\n",
    "    HIV4=ps.HIV4()\n",
    "    for i in data['tokenized_text']:\n",
    "        tokens=HIV4.tokenize(i)\n",
    "        positive_HIV4.append(HIV4.get_score(tokens)['Positive'])\n",
    "        negative_HIV4.append(HIV4.get_score(tokens)['Negative'])\n",
    "    data['positive_HIV4'] =positive_HIV4\n",
    "    data['negative_HIV4'] =negative_HIV4\n",
    "harvard_calculation(data)    "
   ]
  },
  {
   "cell_type": "code",
   "execution_count": 17,
   "id": "64401185",
   "metadata": {},
   "outputs": [],
   "source": [
    "def HIV4_classification(data):\n",
    "    data['classification_HIV4']='positive'\n",
    "    data.loc[data['positive_HIV4'] < data['negative_HIV4'], 'classification_HIV4'] ='negative'\n",
    "    data.loc[data['negative_HIV4'] == data['positive_HIV4'],'classification_HIV4']='neutral'\n",
    "\n",
    "HIV4_classification(data) "
   ]
  },
  {
   "cell_type": "code",
   "execution_count": 18,
   "id": "d5b07329",
   "metadata": {},
   "outputs": [
    {
     "name": "stdout",
     "output_type": "stream",
     "text": [
      "0.22512832073420602\n"
     ]
    }
   ],
   "source": [
    "def f1_score(data):\n",
    "    return sklearn.metrics.f1_score(data['label'], data['classification_HIV4'], average='weighted')\n",
    "print(f1_score(data))"
   ]
  },
  {
   "cell_type": "code",
   "execution_count": 19,
   "id": "8f6eae72",
   "metadata": {},
   "outputs": [
    {
     "name": "stdout",
     "output_type": "stream",
     "text": [
      "0.22666666666666666\n"
     ]
    }
   ],
   "source": [
    "def accuracy_HIV4(data):\n",
    "    return sklearn.metrics.accuracy_score(data['label'], data['classification_HIV4'])\n",
    "print(accuracy_HIV4(data))"
   ]
  },
  {
   "cell_type": "code",
   "execution_count": 20,
   "id": "87652c90",
   "metadata": {},
   "outputs": [
    {
     "data": {
      "text/plain": [
       "array([[ 21,  18,  41],\n",
       "       [ 54,  58, 324],\n",
       "       [ 13,  14,  57]], dtype=int64)"
      ]
     },
     "execution_count": 20,
     "metadata": {},
     "output_type": "execute_result"
    }
   ],
   "source": [
    "def confusion_matrix_HIV4(data):\n",
    "    return sklearn.metrics.confusion_matrix(data['label'], data['classification_HIV4'])\n",
    "confusion_matrix_HIV4(data)"
   ]
  },
  {
   "cell_type": "code",
   "execution_count": 22,
   "id": "a9cc00ca",
   "metadata": {},
   "outputs": [
    {
     "data": {
      "image/png": "[encoded data removed]",
      "text/plain": [
       "<Figure size 432x288 with 2 Axes>"
      ]
     },
     "metadata": {
      "needs_background": "light"
     },
     "output_type": "display_data"
    }
   ],
   "source": [
    "def graph(data):\n",
    "    confusion_matrix1 =confusion_matrix_HIV4(data)\n",
    "    confusion_matrix1=confusion_matrix1.astype('float')/confusion_matrix1.sum(axis=1)[:,np.newaxis]\n",
    "    ax = sns.heatmap(confusion_matrix1, annot =True, fmt='.2%', cmap='Blues')\n",
    "    ax.set_title('Confusion Matrix Harvard IV-4',fontsize=20)\n",
    "    ax.set_xlabel('Predicted Classification',fontsize=20)\n",
    "    ax.set_ylabel('Actual Classification',fontsize=20)\n",
    "    ax.xaxis.set_ticklabels(['Negative', 'Neutral', 'Positive'],fontsize=15)\n",
    "    ax.yaxis.set_ticklabels(['Negative', 'Neutral', 'Positive'], fontsize=15, va='center')\n",
    "    plt.savefig('harvard_mda_final',bbox_inches=\"tight\")\n",
    "    plt.show()\n",
    "graph(data)"
   ]
  },
  {
   "cell_type": "code",
   "execution_count": 23,
   "id": "ed2a39c1",
   "metadata": {},
   "outputs": [
    {
     "name": "stdout",
     "output_type": "stream",
     "text": [
      "[{'label': 'Negative', 'score': 0.9966173768043518}, {'label': 'Positive', 'score': 1.0}, {'label': 'Negative', 'score': 0.9999710321426392}, {'label': 'Neutral', 'score': 0.9889442920684814}]\n"
     ]
    }
   ],
   "source": [
    "from transformers import BertTokenizer, BertForSequenceClassification\n",
    "from transformers import pipeline\n",
    "\n",
    "finbert = BertForSequenceClassification.from_pretrained('yiyanghkust/finbert-tone',num_labels=3)\n",
    "tokenizer = BertTokenizer.from_pretrained('yiyanghkust/finbert-tone')\n",
    "\n",
    "nlp = pipeline(\"sentiment-analysis\", model=finbert, tokenizer=tokenizer)\n",
    "\n",
    "sentences = [\"there is a shortage of capital, and we need extra financing\",  \n",
    "             \"growth is strong and we have plenty of liquidity\", \n",
    "             \"there are doubts about our finances\", \n",
    "             \"profits are flat\"]\n",
    "results = nlp(sentences)\n",
    "print(results)  #LABEL_0: neutral; LABEL_1: positive; LABEL_2: negative"
   ]
  },
  {
   "cell_type": "code",
   "execution_count": 24,
   "id": "66974bf4",
   "metadata": {},
   "outputs": [],
   "source": [
    "labels={0:'neutral', 1:'positive',2:'negative'}\n",
    "def classification_fin(data):\n",
    "    classification_finbert=[]\n",
    "    for i in data['tokenized_text']:\n",
    "        inputs=tokenizer(i, return_tensors='pt', padding=True)\n",
    "        outputs = finbert(**inputs)[0]\n",
    "        classification_finbert.append(labels[np.argmax(outputs.detach().numpy())])\n",
    "    data['classification_finbert']=classification_finbert\n",
    "classification_fin(data)"
   ]
  },
  {
   "cell_type": "code",
   "execution_count": 25,
   "id": "e14b1549",
   "metadata": {},
   "outputs": [
    {
     "name": "stdout",
     "output_type": "stream",
     "text": [
      "0.7833333333333333\n"
     ]
    }
   ],
   "source": [
    "def accuracy_fin(data):\n",
    "    return sklearn.metrics.accuracy_score(data['label'], data['classification_finbert'])\n",
    "print(accuracy_fin(data)) "
   ]
  },
  {
   "cell_type": "code",
   "execution_count": 26,
   "id": "bd6749ff",
   "metadata": {},
   "outputs": [
    {
     "name": "stdout",
     "output_type": "stream",
     "text": [
      "0.7802507228299417\n"
     ]
    }
   ],
   "source": [
    "def f1_score(data):\n",
    "    return sklearn.metrics.f1_score(data['label'], data['classification_finbert'], average='weighted')\n",
    "print(f1_score(data))"
   ]
  },
  {
   "cell_type": "code",
   "execution_count": 27,
   "id": "b5bbf7c5",
   "metadata": {},
   "outputs": [
    {
     "data": {
      "text/plain": [
       "array([[ 40,  37,   3],\n",
       "       [ 32, 380,  24],\n",
       "       [  2,  32,  50]], dtype=int64)"
      ]
     },
     "execution_count": 27,
     "metadata": {},
     "output_type": "execute_result"
    }
   ],
   "source": [
    "def confusion_matrix_fin(data):\n",
    "    return sklearn.metrics.confusion_matrix(data['label'], data['classification_finbert'])\n",
    "confusion_matrix_fin(data)"
   ]
  },
  {
   "cell_type": "code",
   "execution_count": 29,
   "id": "fcd6c20e",
   "metadata": {},
   "outputs": [
    {
     "data": {
      "image/png": "[encoded data removed]",
      "text/plain": [
       "<Figure size 432x288 with 2 Axes>"
      ]
     },
     "metadata": {
      "needs_background": "light"
     },
     "output_type": "display_data"
    }
   ],
   "source": [
    "def graph(data):\n",
    "    confusion_matrix1 =confusion_matrix_fin(data)\n",
    "    confusion_matrix1=confusion_matrix1.astype('float')/confusion_matrix1.sum(axis=1)[:,np.newaxis]\n",
    "    ax = sns.heatmap(confusion_matrix1, annot =True, fmt='.2%', cmap='Blues')\n",
    "    ax.set_title('Confusion Matrix FinBERT',fontsize=20)\n",
    "    ax.set_xlabel('Predicted Classification',fontsize=20)\n",
    "    ax.set_ylabel('Actual Classification',fontsize=20)\n",
    "    ax.xaxis.set_ticklabels(['Negative', 'Neutral', 'Positive'],fontsize=15)\n",
    "    ax.yaxis.set_ticklabels(['Negative', 'Neutral', 'Positive'], fontsize=15, va='center')\n",
    "    plt.savefig('FinBERT_mda_final',bbox_inches=\"tight\")\n",
    "    plt.show()\n",
    "graph(data)"
   ]
  },
  {
   "cell_type": "code",
   "execution_count": 30,
   "id": "5c709418",
   "metadata": {},
   "outputs": [],
   "source": [
    "os.chdir('C:/Program Files/Java/jre1.8.0_331/bin')"
   ]
  },
  {
   "cell_type": "code",
   "execution_count": 31,
   "id": "faf5d35a",
   "metadata": {},
   "outputs": [
    {
     "name": "stderr",
     "output_type": "stream",
     "text": [
      "[main] INFO CoreNLP - --- StanfordCoreNLPServer#main() called ---\n",
      "[main] INFO CoreNLP - Server default properties:\n",
      "\t\t\t(Note: unspecified annotator properties are English defaults)\n",
      "\t\t\tinputFormat = text\n",
      "\t\t\toutputFormat = json\n",
      "\t\t\tprettyPrint = false\n",
      "[main] INFO CoreNLP - Threads: 8\n",
      "[main] INFO CoreNLP - Starting server...\n",
      "[main] WARN CoreNLP - java.net.BindException: Address already in use: bind\n",
      "  sun.nio.ch.Net.bind0(Native Method)\n",
      "  sun.nio.ch.Net.bind(Unknown Source)\n",
      "  sun.nio.ch.Net.bind(Unknown Source)\n",
      "  sun.nio.ch.ServerSocketChannelImpl.bind(Unknown Source)\n",
      "  sun.nio.ch.ServerSocketAdaptor.bind(Unknown Source)\n",
      "  sun.net.httpserver.ServerImpl.<init>(Unknown Source)\n",
      "  sun.net.httpserver.HttpServerImpl.<init>(Unknown Source)\n",
      "  sun.net.httpserver.DefaultHttpServerProvider.createHttpServer(Unknown Source)\n",
      "  com.sun.net.httpserver.HttpServer.create(Unknown Source)\n",
      "  edu.stanford.nlp.pipeline.StanfordCoreNLPServer.run(StanfordCoreNLPServer.java:1534)\n",
      "  edu.stanford.nlp.pipeline.StanfordCoreNLPServer.launchServer(StanfordCoreNLPServer.java:1631)\n",
      "  edu.stanford.nlp.pipeline.StanfordCoreNLPServer.main(StanfordCoreNLPServer.java:1638)\n",
      "[Thread-0] INFO CoreNLP - CoreNLP Server is shutting down.\n"
     ]
    }
   ],
   "source": [
    "DPATH=\"C:/Users/Mia/Downloads/stanford-corenlp-4.4.0\"\n",
    "!java -mx6g -cp \"$DPATH/*\" edu.stanford.nlp.pipeline.StanfordCoreNLPServer -timeout 5000"
   ]
  },
  {
   "cell_type": "code",
   "execution_count": 32,
   "id": "755c6cbf",
   "metadata": {},
   "outputs": [],
   "source": [
    "nlp = StanfordCoreNLP('http://localhost:9000')"
   ]
  },
  {
   "cell_type": "code",
   "execution_count": 38,
   "id": "d6753440",
   "metadata": {},
   "outputs": [
    {
     "data": {
      "text/html": [
       "<div>\n",
       "<style scoped>\n",
       "    .dataframe tbody tr th:only-of-type {\n",
       "        vertical-align: middle;\n",
       "    }\n",
       "\n",
       "    .dataframe tbody tr th {\n",
       "        vertical-align: top;\n",
       "    }\n",
       "\n",
       "    .dataframe thead th {\n",
       "        text-align: right;\n",
       "    }\n",
       "</style>\n",
       "<table border=\"1\" class=\"dataframe\">\n",
       "  <thead>\n",
       "    <tr style=\"text-align: right;\">\n",
       "      <th></th>\n",
       "      <th>Unnamed: 0</th>\n",
       "      <th>tokenized_text</th>\n",
       "      <th>label</th>\n",
       "      <th>wordcount</th>\n",
       "      <th>positive_lm</th>\n",
       "      <th>negative_lm</th>\n",
       "      <th>classification_lm</th>\n",
       "      <th>positive_HIV4</th>\n",
       "      <th>negative_HIV4</th>\n",
       "      <th>classification_HIV4</th>\n",
       "      <th>classification_finbert</th>\n",
       "      <th>classification_RNN</th>\n",
       "    </tr>\n",
       "  </thead>\n",
       "  <tbody>\n",
       "    <tr>\n",
       "      <th>0</th>\n",
       "      <td>0</td>\n",
       "      <td>results from the foodservice businesses in ref...</td>\n",
       "      <td>positive</td>\n",
       "      <td>46</td>\n",
       "      <td>0</td>\n",
       "      <td>1</td>\n",
       "      <td>negative</td>\n",
       "      <td>3</td>\n",
       "      <td>1</td>\n",
       "      <td>positive</td>\n",
       "      <td>positive</td>\n",
       "      <td>negative</td>\n",
       "    </tr>\n",
       "    <tr>\n",
       "      <th>1</th>\n",
       "      <td>1</td>\n",
       "      <td>during       a portion of what was previously ...</td>\n",
       "      <td>neutral</td>\n",
       "      <td>33</td>\n",
       "      <td>0</td>\n",
       "      <td>0</td>\n",
       "      <td>neutral</td>\n",
       "      <td>4</td>\n",
       "      <td>0</td>\n",
       "      <td>positive</td>\n",
       "      <td>neutral</td>\n",
       "      <td>neutral</td>\n",
       "    </tr>\n",
       "    <tr>\n",
       "      <th>4</th>\n",
       "      <td>4</td>\n",
       "      <td>the increased fourth quarter demand for retail...</td>\n",
       "      <td>positive</td>\n",
       "      <td>29</td>\n",
       "      <td>0</td>\n",
       "      <td>0</td>\n",
       "      <td>neutral</td>\n",
       "      <td>3</td>\n",
       "      <td>3</td>\n",
       "      <td>neutral</td>\n",
       "      <td>positive</td>\n",
       "      <td>negative</td>\n",
       "    </tr>\n",
       "    <tr>\n",
       "      <th>5</th>\n",
       "      <td>5</td>\n",
       "      <td>contractual cash obligations as of december   ...</td>\n",
       "      <td>neutral</td>\n",
       "      <td>24</td>\n",
       "      <td>0</td>\n",
       "      <td>0</td>\n",
       "      <td>neutral</td>\n",
       "      <td>2</td>\n",
       "      <td>1</td>\n",
       "      <td>positive</td>\n",
       "      <td>neutral</td>\n",
       "      <td>negative</td>\n",
       "    </tr>\n",
       "    <tr>\n",
       "      <th>6</th>\n",
       "      <td>6</td>\n",
       "      <td>our actual results could differ materially fro...</td>\n",
       "      <td>neutral</td>\n",
       "      <td>34</td>\n",
       "      <td>0</td>\n",
       "      <td>0</td>\n",
       "      <td>neutral</td>\n",
       "      <td>3</td>\n",
       "      <td>1</td>\n",
       "      <td>positive</td>\n",
       "      <td>negative</td>\n",
       "      <td>neutral</td>\n",
       "    </tr>\n",
       "    <tr>\n",
       "      <th>...</th>\n",
       "      <td>...</td>\n",
       "      <td>...</td>\n",
       "      <td>...</td>\n",
       "      <td>...</td>\n",
       "      <td>...</td>\n",
       "      <td>...</td>\n",
       "      <td>...</td>\n",
       "      <td>...</td>\n",
       "      <td>...</td>\n",
       "      <td>...</td>\n",
       "      <td>...</td>\n",
       "      <td>...</td>\n",
       "    </tr>\n",
       "    <tr>\n",
       "      <th>655</th>\n",
       "      <td>655</td>\n",
       "      <td>costs associated with intangibles that have no...</td>\n",
       "      <td>neutral</td>\n",
       "      <td>19</td>\n",
       "      <td>0</td>\n",
       "      <td>0</td>\n",
       "      <td>neutral</td>\n",
       "      <td>1</td>\n",
       "      <td>1</td>\n",
       "      <td>neutral</td>\n",
       "      <td>neutral</td>\n",
       "      <td>negative</td>\n",
       "    </tr>\n",
       "    <tr>\n",
       "      <th>656</th>\n",
       "      <td>656</td>\n",
       "      <td>we define ebitda as operating profit plus depr...</td>\n",
       "      <td>neutral</td>\n",
       "      <td>16</td>\n",
       "      <td>1</td>\n",
       "      <td>1</td>\n",
       "      <td>neutral</td>\n",
       "      <td>3</td>\n",
       "      <td>3</td>\n",
       "      <td>neutral</td>\n",
       "      <td>neutral</td>\n",
       "      <td>positive</td>\n",
       "    </tr>\n",
       "    <tr>\n",
       "      <th>657</th>\n",
       "      <td>657</td>\n",
       "      <td>it is not possible to estimate what effect thi...</td>\n",
       "      <td>neutral</td>\n",
       "      <td>23</td>\n",
       "      <td>2</td>\n",
       "      <td>1</td>\n",
       "      <td>positive</td>\n",
       "      <td>3</td>\n",
       "      <td>1</td>\n",
       "      <td>positive</td>\n",
       "      <td>neutral</td>\n",
       "      <td>negative</td>\n",
       "    </tr>\n",
       "    <tr>\n",
       "      <th>658</th>\n",
       "      <td>658</td>\n",
       "      <td>for additional information on mortgage banking...</td>\n",
       "      <td>positive</td>\n",
       "      <td>46</td>\n",
       "      <td>1</td>\n",
       "      <td>0</td>\n",
       "      <td>positive</td>\n",
       "      <td>3</td>\n",
       "      <td>0</td>\n",
       "      <td>positive</td>\n",
       "      <td>positive</td>\n",
       "      <td>neutral</td>\n",
       "    </tr>\n",
       "    <tr>\n",
       "      <th>659</th>\n",
       "      <td>659</td>\n",
       "      <td>the convertible preferred stock represents tra...</td>\n",
       "      <td>neutral</td>\n",
       "      <td>34</td>\n",
       "      <td>0</td>\n",
       "      <td>1</td>\n",
       "      <td>negative</td>\n",
       "      <td>6</td>\n",
       "      <td>2</td>\n",
       "      <td>positive</td>\n",
       "      <td>neutral</td>\n",
       "      <td>negative</td>\n",
       "    </tr>\n",
       "  </tbody>\n",
       "</table>\n",
       "<p>600 rows × 12 columns</p>\n",
       "</div>"
      ],
      "text/plain": [
       "     Unnamed: 0                                     tokenized_text     label  \\\n",
       "0             0  results from the foodservice businesses in ref...  positive   \n",
       "1             1  during       a portion of what was previously ...   neutral   \n",
       "4             4  the increased fourth quarter demand for retail...  positive   \n",
       "5             5  contractual cash obligations as of december   ...   neutral   \n",
       "6             6  our actual results could differ materially fro...   neutral   \n",
       "..          ...                                                ...       ...   \n",
       "655         655  costs associated with intangibles that have no...   neutral   \n",
       "656         656  we define ebitda as operating profit plus depr...   neutral   \n",
       "657         657  it is not possible to estimate what effect thi...   neutral   \n",
       "658         658  for additional information on mortgage banking...  positive   \n",
       "659         659  the convertible preferred stock represents tra...   neutral   \n",
       "\n",
       "     wordcount  positive_lm  negative_lm classification_lm  positive_HIV4  \\\n",
       "0           46            0            1          negative              3   \n",
       "1           33            0            0           neutral              4   \n",
       "4           29            0            0           neutral              3   \n",
       "5           24            0            0           neutral              2   \n",
       "6           34            0            0           neutral              3   \n",
       "..         ...          ...          ...               ...            ...   \n",
       "655         19            0            0           neutral              1   \n",
       "656         16            1            1           neutral              3   \n",
       "657         23            2            1          positive              3   \n",
       "658         46            1            0          positive              3   \n",
       "659         34            0            1          negative              6   \n",
       "\n",
       "     negative_HIV4 classification_HIV4 classification_finbert  \\\n",
       "0                1            positive               positive   \n",
       "1                0            positive                neutral   \n",
       "4                3             neutral               positive   \n",
       "5                1            positive                neutral   \n",
       "6                1            positive               negative   \n",
       "..             ...                 ...                    ...   \n",
       "655              1             neutral                neutral   \n",
       "656              3             neutral                neutral   \n",
       "657              1            positive                neutral   \n",
       "658              0            positive               positive   \n",
       "659              2            positive                neutral   \n",
       "\n",
       "    classification_RNN  \n",
       "0             negative  \n",
       "1              neutral  \n",
       "4             negative  \n",
       "5             negative  \n",
       "6              neutral  \n",
       "..                 ...  \n",
       "655           negative  \n",
       "656           positive  \n",
       "657           negative  \n",
       "658            neutral  \n",
       "659           negative  \n",
       "\n",
       "[600 rows x 12 columns]"
      ]
     },
     "execution_count": 38,
     "metadata": {},
     "output_type": "execute_result"
    }
   ],
   "source": [
    "os.chdir('C:/Users/Mia/Downloads')\n",
    "data"
   ]
  },
  {
   "cell_type": "code",
   "execution_count": 34,
   "id": "a9989f7a",
   "metadata": {},
   "outputs": [],
   "source": [
    "classification_RNN=[]\n",
    "def RNN_classification(data):\n",
    "    for i in data['tokenized_text']:\n",
    "            result= nlp.annotate(i,\n",
    "                                properties={'annotators': 'sentiment',\n",
    "                                           'outputFormat':'json','timeout':40000})\n",
    "            classification_RNN.append(result['sentences'][0]['sentiment'])\n",
    "    data['classification_RNN']=classification_RNN\n",
    "    data['classification_RNN']=data['classification_RNN'].str.lower()\n",
    "RNN_classification(data)"
   ]
  },
  {
   "cell_type": "code",
   "execution_count": 41,
   "id": "d750a517",
   "metadata": {},
   "outputs": [],
   "source": [
    "data.loc[(data['classification_RNN'] == 'verypositive')] = 'positive'\n",
    "data.loc[(data['classification_RNN'] == 'verynegative')] = 'negative'"
   ]
  },
  {
   "cell_type": "code",
   "execution_count": 42,
   "id": "fb231108",
   "metadata": {},
   "outputs": [
    {
     "data": {
      "text/plain": [
       "array(['negative', 'neutral', 'positive'], dtype=object)"
      ]
     },
     "execution_count": 42,
     "metadata": {},
     "output_type": "execute_result"
    }
   ],
   "source": [
    "data['classification_RNN'].unique()"
   ]
  },
  {
   "cell_type": "code",
   "execution_count": 43,
   "id": "711fdce5",
   "metadata": {},
   "outputs": [
    {
     "name": "stdout",
     "output_type": "stream",
     "text": [
      "0.42833333333333334\n"
     ]
    }
   ],
   "source": [
    "def accuracy_RNN(data):\n",
    "    return sklearn.metrics.accuracy_score(data['label'], data['classification_RNN'])\n",
    "print(accuracy_RNN(data))"
   ]
  },
  {
   "cell_type": "code",
   "execution_count": 44,
   "id": "d3c11847",
   "metadata": {},
   "outputs": [
    {
     "name": "stdout",
     "output_type": "stream",
     "text": [
      "0.4747171932779816\n"
     ]
    }
   ],
   "source": [
    "def f1_score(data):\n",
    "    return sklearn.metrics.f1_score(data['label'], data['classification_RNN'], average='weighted')\n",
    "print(f1_score(data))"
   ]
  },
  {
   "cell_type": "code",
   "execution_count": 45,
   "id": "ba5f9be0",
   "metadata": {},
   "outputs": [
    {
     "data": {
      "text/plain": [
       "array([[ 40,  26,  15],\n",
       "       [142, 191, 101],\n",
       "       [ 28,  31,  26]], dtype=int64)"
      ]
     },
     "execution_count": 45,
     "metadata": {},
     "output_type": "execute_result"
    }
   ],
   "source": [
    "def confusion_matrix_fin(data):\n",
    "    return sklearn.metrics.confusion_matrix(data['label'], data['classification_RNN'])\n",
    "confusion_matrix_fin(data)"
   ]
  },
  {
   "cell_type": "code",
   "execution_count": 47,
   "id": "0a77d331",
   "metadata": {},
   "outputs": [
    {
     "data": {
      "image/png": "[encoded data removed]",
      "text/plain": [
       "<Figure size 432x288 with 2 Axes>"
      ]
     },
     "metadata": {
      "needs_background": "light"
     },
     "output_type": "display_data"
    }
   ],
   "source": [
    "def graph(data):\n",
    "    confusion_matrix1 =confusion_matrix_fin(data)\n",
    "    confusion_matrix1=confusion_matrix1.astype('float')/confusion_matrix1.sum(axis=1)[:,np.newaxis]\n",
    "    ax = sns.heatmap(confusion_matrix1, annot =True, fmt='.2%', cmap='Blues')\n",
    "    ax.set_title('Confusion Matrix RNTN',fontsize=20)\n",
    "    ax.set_xlabel('Predicted Classification',fontsize=20)\n",
    "    ax.set_ylabel('Actual Classification',fontsize=20)\n",
    "    ax.xaxis.set_ticklabels(['Negative', 'Neutral', 'Positive'],fontsize=15)\n",
    "    ax.yaxis.set_ticklabels(['Negative', 'Neutral', 'Positive'], fontsize=15, va='center')\n",
    "    plt.savefig('RNTN_mda_final',bbox_inches=\"tight\")\n",
    "    plt.show()\n",
    "graph(data)"
   ]
  }
 ],
 "metadata": {
  "kernelspec": {
   "display_name": "Python 3",
   "language": "python",
   "name": "python3"
  },
  "language_info": {
   "codemirror_mode": {
    "name": "ipython",
    "version": 3
   },
   "file_extension": ".py",
   "mimetype": "text/x-python",
   "name": "python",
   "nbconvert_exporter": "python",
   "pygments_lexer": "ipython3",
   "version": "3.8.8"
  }
 },
 "nbformat": 4,
 "nbformat_minor": 5
}
